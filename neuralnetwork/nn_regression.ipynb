{
 "cells": [
  {
   "cell_type": "markdown",
   "metadata": {},
   "source": [
    "### ニューラルネットワークの構築（回帰）\n",
    "ニューラルネットワーク、すなわち複数のニューロンからなるネットワークを実装します。  \n",
    "まず、出力が連続的なすうちになる問題、すなわち回帰問題を扱う。"
   ]
  },
  {
   "cell_type": "markdown",
   "metadata": {},
   "source": [
    "### 実装するニューラルネットワーク\n",
    "今回は、以下に示す3層のシンプルなニューラルネットワークを実装します。\n",
    "\n",
    "<img src=\"../images/nn_regression.png\">\n",
    "\n",
    "このニューラルネットワークは、入力層（ニューロン数 : n=2）、中間層(n=2)、出力層(n=1)の3層構造です。  \n",
    "中間層の活性化関数はシグモイド関数で、出力層の活性化関数は回帰であるため恒等関数になります。  \n",
    "  \n",
    " ディープラーニングでは近年中間層の活性化関数にReLUを使うことが大いですが、今回は結果を連続的に表示するためにシグモイド関数を使います。  \n",
    " このニューラルネットワークに入力を順伝播させて、出力を今回もグリッドで表示します。"
   ]
  },
  {
   "cell_type": "markdown",
   "metadata": {},
   "source": [
    "### 各層の実装\n",
    "3層のニューラルネットワークの各層を実装します。  \n",
    "  \n",
    "入力層は入力をそのまま受け取る飲みなので省略です。  \n",
    "中間層は、次のように関数で実装します。"
   ]
  },
  {
   "cell_type": "code",
   "execution_count": null,
   "metadata": {},
   "outputs": [],
   "source": [
    "# 中間層\n",
    "def middle_layer(x, w, b):\n",
    "    u = np.dot(x, w) + b\n",
    "    return 1/(1+np.exp(-u)) # シグモイド関数"
   ]
  },
  {
   "cell_type": "markdown",
   "metadata": {},
   "source": [
    "この関数は、引数として中間層への入力(`x`)、重み(`w`) とバイアス(`b`)を受け取ります。  \n",
    "そして、以下の箇所でNumpyのdot関数を用いて行列wとベクトル`x`の行列積を計算し、バイアスを足し合わせます。"
   ]
  },
  {
   "cell_type": "code",
   "execution_count": null,
   "metadata": {},
   "outputs": [],
   "source": [
    "u = np.dot(x, w) + b"
   ]
  },
  {
   "cell_type": "markdown",
   "metadata": {},
   "source": [
    "(上記の式は以前出てきている)  \n",
    "このコードは以下に対応する。  \n",
    "\n",
    "$$  \\begin{aligned} \\\\\n",
    "\\vec{u_j} & = \\vec{x_i}W + \\vec{b_j} \\\\\n",
    "  \\end{aligned}\n",
    "$$ \n",
    "\n",
    "得られた`u`を活性化関数であるシグモイド関数に入れて、中間層の出力を得ることができます。  \n",
    "\n",
    "出力層も、中間層と同様に関数で実装します。"
   ]
  },
  {
   "cell_type": "code",
   "execution_count": null,
   "metadata": {},
   "outputs": [],
   "source": [
    "# 出力層\n",
    "def output_layer(x, w, b):\n",
    "    u = np.dot(x, w) + b\n",
    "    return u # 恒等関数"
   ]
  },
  {
   "cell_type": "markdown",
   "metadata": {},
   "source": [
    "引数、及び`u`の計算は中間層と同様です。  \n",
    "中間層との違いは、活性化関数が恒等関数である点です"
   ]
  },
  {
   "cell_type": "markdown",
   "metadata": {},
   "source": [
    "重みは、次のようにNumpyの配列を用いた行列として実装します。"
   ]
  },
  {
   "cell_type": "code",
   "execution_count": null,
   "metadata": {},
   "outputs": [],
   "source": [
    "# 重み\n",
    "w_im = np.array([[4.0, 4.0],\n",
    "                                [4.0, 4.0]]) # 中間層 2×2の行列\n",
    "# 一行目 : x1にかけられる\n",
    "# 二行目 : x2にかけられる\n",
    "\n",
    "v_mo = np.array([[1.0],[-1.0]]) #出力層 2×1の行列"
   ]
  },
  {
   "cell_type": "markdown",
   "metadata": {},
   "source": [
    "入力層のニューロン数は2、中間層のニューロン数は2なので、中間層には2×2=4個の重みが必要になります。  \n",
    "また、中間層のニューロン数は2、出力層のニューロン数は1なので、出力層には2×1=2個の重みが必要になります"
   ]
  },
  {
   "cell_type": "markdown",
   "metadata": {},
   "source": [
    "バイアスは次のようにベクトルとして実装します。"
   ]
  },
  {
   "cell_type": "code",
   "execution_count": null,
   "metadata": {},
   "outputs": [],
   "source": [
    "# バイアス\n",
    "b_im = np.array([3.0, -3.0]) #　中間層\n",
    "b_mo = np.array([0.1]) #　出力層"
   ]
  },
  {
   "cell_type": "markdown",
   "metadata": {},
   "source": [
    "バイアスの数はニューロンの数に等しいので、中間層には2層、出力層には1個のバイアスが必要になります。  \n",
    "なお、重みとバイアスの値は適当な値を設定しています。  \n",
    "  \n",
    " 以上を踏まえて、順伝播を次のように実装します。"
   ]
  },
  {
   "cell_type": "code",
   "execution_count": null,
   "metadata": {},
   "outputs": [],
   "source": [
    "# 順伝播\n",
    "inp = np.array([...]) # 入力層\n",
    "mid = middle_layer(inp, w_im, b_im) #中間層\n",
    "out = output_layer(mid, w_mo, b_mo) #出力層"
   ]
  },
  {
   "cell_type": "markdown",
   "metadata": {},
   "source": [
    "入力を重みとバイアスとともに中間層の関数に渡します。  \n",
    "そして、中間層の出力を重みとバイアスと共に出力層の関数に渡して、出力層の出力をえます。"
   ]
  },
  {
   "cell_type": "code",
   "execution_count": 13,
   "metadata": {},
   "outputs": [
    {
     "data": {
      "image/png": "[encoded data removed]",
      "text/plain": [
       "<Figure size 432x288 with 2 Axes>"
      ]
     },
     "metadata": {},
     "output_type": "display_data"
    }
   ],
   "source": [
    "%matplotlib inline\n",
    "# 全体のコード\n",
    "import numpy as np\n",
    "import matplotlib.pyplot as plt\n",
    "\n",
    "# 中間層\n",
    "def middle_layer(x, w, b):\n",
    "    u = np.dot(x, w) + b\n",
    "    return 1/(1+np.exp(-u)) # シグモイド関数\n",
    "\n",
    "# 出力層\n",
    "def output_layer(x, w, b):\n",
    "    u = np.dot(x, w) + b\n",
    "    return u # 恒等関数\n",
    "\n",
    "# x,y座標\n",
    "X = np.arange(-1.0, 1.0, 0.2) #　要素数は10個\n",
    "Y = np.arange(-1.0, 1.0, 0.2)\n",
    "\n",
    "# 出力を格納する10×10のグリッド\n",
    "Z = np.zeros((10,10))\n",
    "\n",
    "# 重み\n",
    "w_im = np.array([[4.0,4.0],\n",
    "                                [4.0,4.0]]) # 中間層 2×2の行列\n",
    "w_mo = np.array([[1.0],\n",
    "                                 [-1.0]]) # 出力層 2×1の行列\n",
    "\n",
    "# バイアス\n",
    "b_im = np.array([3.0, -3.0]) #中間層\n",
    "b_mo = np.array([0.1]) #出力層\n",
    "\n",
    "# グリッドの各マスでニューラルネットワークの演算\n",
    "for i in range(10):\n",
    "    for j in range(10):\n",
    "        \n",
    "        # 順伝播\n",
    "        inp = np.array([X[i], Y[j]]) #入力層\n",
    "        mid = middle_layer(inp, w_im, b_im) # 中間層\n",
    "        out = output_layer(mid, w_mo, b_mo) # 出力層\n",
    "        \n",
    "        # グリッドにNNの出力を格納(1×1でもarrayではあるっぽい)\n",
    "        Z[j][i] = out[0]\n",
    "\n",
    "# グリッドの表示\n",
    "plt.imshow(Z, \"gray\", vmin = 0.0, vmax = 1.0)\n",
    "plt.colorbar()\n",
    "plt.show()"
   ]
  },
  {
   "cell_type": "code",
   "execution_count": null,
   "metadata": {},
   "outputs": [],
   "source": []
  }
 ],
 "metadata": {
  "kernelspec": {
   "display_name": "Python 3",
   "language": "python",
   "name": "python3"
  },
  "language_info": {
   "codemirror_mode": {
    "name": "ipython",
    "version": 3
   },
   "file_extension": ".py",
   "mimetype": "text/x-python",
   "name": "python",
   "nbconvert_exporter": "python",
   "pygments_lexer": "ipython3",
   "version": "3.6.8"
  }
 },
 "nbformat": 4,
 "nbformat_minor": 2
}
