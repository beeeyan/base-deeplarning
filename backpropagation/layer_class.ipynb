{
 "cells": [
  {
   "cell_type": "markdown",
   "metadata": {},
   "source": [
    "本セクションでは、ニューラルネットワークの各層をPythonのクラスとして実装する。"
   ]
  },
  {
   "cell_type": "markdown",
   "metadata": {},
   "source": [
    "### 出力層 ~回帰~\n",
    "以下は、回帰の場合の出力層を表すクラスである"
   ]
  },
  {
   "cell_type": "code",
   "execution_count": 1,
   "metadata": {},
   "outputs": [],
   "source": [
    "# __ 出力層 __\n",
    "class OutputLayer:\n",
    "    # 初期設定\n",
    "    def __init__(self, n_upper, n) :\n",
    "        \"\"\"\n",
    "        n_upper : 上の層のニューロン数\n",
    "        n　: 現在のニューロン数\n",
    "        \"\"\"\n",
    "        # 重み行列、wb_widthは値の広がり\n",
    "        self.w = wb_width * np.random.randn(n_upper, n)\n",
    "        # バイアス（ベクトル）、wb_widthは値の広がり\n",
    "        self.b = wb_width * np.random.randn(n)\n",
    "        \n",
    "    # 順伝播\n",
    "    def forward(self, x):\n",
    "        \"\"\"\n",
    "        x : 入力\n",
    "        入力と出力でselfがついているのは、逆伝播のメソッドでこれらを利用するから\n",
    "        \"\"\"\n",
    "        self.x = x\n",
    "        # uとは重みと入力の積の総和にバイアスを加えた値\n",
    "        u = np.dot(x, self.w) + self.b\n",
    "        # 恒等関数\n",
    "        self.y = u\n",
    "        \n",
    "    # 逆伝播\n",
    "    def backward(self, t):\n",
    "        \"\"\"\n",
    "        t : 正解\n",
    "        grad_xにselfgついているのは上の値に渡すため\n",
    "        \"\"\"\n",
    "        delta = self.y - t\n",
    "        \n",
    "        self.grad_w = np.dot(self.x.T, delta)\n",
    "        self.grad_b = np.sum(delta, axis = 0)\n",
    "        \n",
    "        self.grad_x = np.dot(delta, self.w.T)\n",
    "        \n",
    "    # 重みとバイアスの更新\n",
    "    def update(self, eta):\n",
    "        \"\"\"\n",
    "        eta : 学習係数\n",
    "        \"\"\"\n",
    "        self.w -= eta * self.grad_w\n",
    "        self.b -= eta * self.grad_b"
   ]
  },
  {
   "cell_type": "markdown",
   "metadata": {},
   "source": [
    "OutputLayerクラスには4つのメソッドが定義されている\n",
    "前のセクションでは関数として層を実装したが、クラスにすることで層がより機能的になっている"
   ]
  },
  {
   "cell_type": "markdown",
   "metadata": {},
   "source": [
    "### 出力層 ~分類~\n",
    "ほぼほぼ、回帰と一緒  \n",
    "唯一の違いは、出力層の活性化関数にソフトマックス関数を使用する点"
   ]
  },
  {
   "cell_type": "code",
   "execution_count": 3,
   "metadata": {},
   "outputs": [],
   "source": [
    "# __ 出力層 __\n",
    "class OutputLayer:\n",
    "    # 初期設定\n",
    "    def __init__(self, n_upper, n) :\n",
    "        \"\"\"\n",
    "        n_upper : 上の層のニューロン数\n",
    "        n　: 現在のニューロン数\n",
    "        \"\"\"\n",
    "        # 重み行列、wb_widthは値の広がり\n",
    "        self.w = wb_width * np.random.randn(n_upper, n)\n",
    "        # バイアス（ベクトル）、wb_widthは値の広がり\n",
    "        self.b = wb_width * np.random.randn(n)\n",
    "        \n",
    "    # 順伝播（ここが重要！！！！！）\n",
    "    def forward(self, x):\n",
    "        \"\"\"\n",
    "        x : 入力\n",
    "        入力と出力でselfがついているのは、逆伝播のメソッドでこれらを利用するから\n",
    "        \"\"\"\n",
    "        self.x = x\n",
    "        # uとは重みと入力の積の総和にバイアスを加えた値\n",
    "        u = np.dot(x, self.w) + self.b\n",
    "        # ソフトマックス関数\n",
    "        # keepdims=Trueとすることで元の配列の次元が保たれる\n",
    "        # 計算結果が(バッチサイズ×1）の行列となる\n",
    "        # ブロードキャストで割り算ができる。これによりバッチに対応したソフトマックス関数となる\n",
    "        self.y = np.exp(u)/np.sum(np.exp(u), axis=1, keepdims=True)\n",
    "        \n",
    "    # 逆伝播\n",
    "    def backward(self, t):\n",
    "        \"\"\"\n",
    "        t : 正解\n",
    "        grad_xにselfgついているのは上の値に渡すため\n",
    "        \"\"\"\n",
    "        delta = self.y - t\n",
    "        \n",
    "        self.grad_w = np.dot(self.x.T, delta)\n",
    "        self.grad_b = np.sum(delta, axis = 0)\n",
    "        \n",
    "        self.grad_x = np.dot(delta, self.w.T)\n",
    "        \n",
    "    # 重みとバイアスの更新\n",
    "    def update(self, eta):\n",
    "        \"\"\"\n",
    "        eta : 学習係数\n",
    "        \"\"\"\n",
    "        self.w -= eta * self.grad_w\n",
    "        self.b -= eta * self.grad_b"
   ]
  },
  {
   "cell_type": "markdown",
   "metadata": {},
   "source": [
    "### 中間層\n",
    "以下は、回帰、分類共通の中間層を表すクラス。"
   ]
  },
  {
   "cell_type": "code",
   "execution_count": 4,
   "metadata": {},
   "outputs": [],
   "source": [
    "# __ 中間層 __\n",
    "class MiddleLayer:\n",
    "    # 初期設定\n",
    "    def __init__(self, n_upper, n) :\n",
    "        \"\"\"\n",
    "        n_upper : 上の層のニューロン数\n",
    "        n　: 現在のニューロン数\n",
    "        \"\"\"\n",
    "        # 重み行列、wb_widthは値の広がり\n",
    "        self.w = wb_width * np.random.randn(n_upper, n)\n",
    "        # バイアス（ベクトル）、wb_widthは値の広がり\n",
    "        self.b = wb_width * np.random.randn(n)\n",
    "        \n",
    "    # 順伝播\n",
    "    def forward(self, x):\n",
    "        \"\"\"\n",
    "        x : 入力\n",
    "        入力と出力でselfがついているのは、逆伝播のメソッドでこれらを利用するから\n",
    "        \"\"\"\n",
    "        self.x = x\n",
    "        # uとは重みと入力の積の総和にバイアスを加えた値\n",
    "        u = np.dot(x, self.w) + self.b\n",
    "        # シグモイド関数(違うところ)\n",
    "        self.y = 1/(1+np.exp(-u))\n",
    "        \n",
    "    # 逆伝播\n",
    "    def backward(self, grad_y):\n",
    "        \"\"\"\n",
    "        grad_y : この層の出力の勾配\n",
    "        grad_xにselfgついているのは上の値に渡すため\n",
    "        \"\"\"\n",
    "        # シグモイド関数の微分をかけている(違うところ)\n",
    "        delta = grad_y * (1-self.y)*self.y\n",
    "        \n",
    "        self.grad_w = np.dot(self.x.T, delta)\n",
    "        self.grad_b = np.sum(delta, axis = 0)\n",
    "        \n",
    "        self.grad_x = np.dot(delta, self.w.T)\n",
    "        \n",
    "    # 重みとバイアスの更新\n",
    "    def update(self, eta):\n",
    "        \"\"\"\n",
    "        eta : 学習係数\n",
    "        \"\"\"\n",
    "        self.w -= eta * self.grad_w\n",
    "        self.b -= eta * self.grad_b"
   ]
  },
  {
   "cell_type": "markdown",
   "metadata": {},
   "source": [
    "このクラスを用いれば、例えば以下のように中間層をいくつでもインスタンスとして生成することができます"
   ]
  },
  {
   "cell_type": "code",
   "execution_count": 5,
   "metadata": {},
   "outputs": [
    {
     "ename": "NameError",
     "evalue": "name 'wb_width' is not defined",
     "output_type": "error",
     "traceback": [
      "\u001b[0;31m---------------------------------------------------------------------------\u001b[0m",
      "\u001b[0;31mNameError\u001b[0m                                 Traceback (most recent call last)",
      "\u001b[0;32m<ipython-input-5-5d9a0826071b>\u001b[0m in \u001b[0;36m<module>\u001b[0;34m()\u001b[0m\n\u001b[0;32m----> 1\u001b[0;31m \u001b[0mmiddle_layer_1\u001b[0m \u001b[0;34m=\u001b[0m \u001b[0mMiddleLayer\u001b[0m\u001b[0;34m(\u001b[0m\u001b[0;36m3\u001b[0m\u001b[0;34m,\u001b[0m \u001b[0;36m4\u001b[0m\u001b[0;34m)\u001b[0m\u001b[0;34m\u001b[0m\u001b[0;34m\u001b[0m\u001b[0m\n\u001b[0m\u001b[1;32m      2\u001b[0m \u001b[0mmiddle_layer_2\u001b[0m \u001b[0;34m=\u001b[0m \u001b[0mMiddleLayer\u001b[0m\u001b[0;34m(\u001b[0m\u001b[0;36m4\u001b[0m\u001b[0;34m,\u001b[0m \u001b[0;36m5\u001b[0m\u001b[0;34m)\u001b[0m\u001b[0;34m\u001b[0m\u001b[0;34m\u001b[0m\u001b[0m\n\u001b[1;32m      3\u001b[0m \u001b[0mmiddle_layer_3\u001b[0m \u001b[0;34m=\u001b[0m \u001b[0mMiddleLayer\u001b[0m\u001b[0;34m(\u001b[0m\u001b[0;36m5\u001b[0m\u001b[0;34m,\u001b[0m \u001b[0;36m6\u001b[0m\u001b[0;34m)\u001b[0m\u001b[0;34m\u001b[0m\u001b[0;34m\u001b[0m\u001b[0m\n",
      "\u001b[0;32m<ipython-input-4-ca9191f87592>\u001b[0m in \u001b[0;36m__init__\u001b[0;34m(self, n_upper, n)\u001b[0m\n\u001b[1;32m      8\u001b[0m         \"\"\"\n\u001b[1;32m      9\u001b[0m         \u001b[0;31m# 重み行列、wb_widthは値の広がり\u001b[0m\u001b[0;34m\u001b[0m\u001b[0;34m\u001b[0m\u001b[0;34m\u001b[0m\u001b[0m\n\u001b[0;32m---> 10\u001b[0;31m         \u001b[0mself\u001b[0m\u001b[0;34m.\u001b[0m\u001b[0mw\u001b[0m \u001b[0;34m=\u001b[0m \u001b[0mwb_width\u001b[0m \u001b[0;34m*\u001b[0m \u001b[0mnp\u001b[0m\u001b[0;34m.\u001b[0m\u001b[0mrandom\u001b[0m\u001b[0;34m.\u001b[0m\u001b[0mrandn\u001b[0m\u001b[0;34m(\u001b[0m\u001b[0mn_upper\u001b[0m\u001b[0;34m,\u001b[0m \u001b[0mn\u001b[0m\u001b[0;34m)\u001b[0m\u001b[0;34m\u001b[0m\u001b[0;34m\u001b[0m\u001b[0m\n\u001b[0m\u001b[1;32m     11\u001b[0m         \u001b[0;31m# バイアス（ベクトル）、wb_widthは値の広がり\u001b[0m\u001b[0;34m\u001b[0m\u001b[0;34m\u001b[0m\u001b[0;34m\u001b[0m\u001b[0m\n\u001b[1;32m     12\u001b[0m         \u001b[0mself\u001b[0m\u001b[0;34m.\u001b[0m\u001b[0mb\u001b[0m \u001b[0;34m=\u001b[0m \u001b[0mwb_width\u001b[0m \u001b[0;34m*\u001b[0m \u001b[0mnp\u001b[0m\u001b[0;34m.\u001b[0m\u001b[0mrandom\u001b[0m\u001b[0;34m.\u001b[0m\u001b[0mrandn\u001b[0m\u001b[0;34m(\u001b[0m\u001b[0mn\u001b[0m\u001b[0;34m)\u001b[0m\u001b[0;34m\u001b[0m\u001b[0;34m\u001b[0m\u001b[0m\n",
      "\u001b[0;31mNameError\u001b[0m: name 'wb_width' is not defined"
     ]
    }
   ],
   "source": [
    "middle_layer_1 = MiddleLayer(3, 4)\n",
    "middle_layer_2 = MiddleLayer(4, 5)\n",
    "middle_layer_3 = MiddleLayer(5, 6)"
   ]
  },
  {
   "cell_type": "code",
   "execution_count": null,
   "metadata": {},
   "outputs": [],
   "source": []
  }
 ],
 "metadata": {
  "kernelspec": {
   "display_name": "Python 3",
   "language": "python",
   "name": "python3"
  },
  "language_info": {
   "codemirror_mode": {
    "name": "ipython",
    "version": 3
   },
   "file_extension": ".py",
   "mimetype": "text/x-python",
   "name": "python",
   "nbconvert_exporter": "python",
   "pygments_lexer": "ipython3",
   "version": "3.6.8"
  }
 },
 "nbformat": 4,
 "nbformat_minor": 2
}
