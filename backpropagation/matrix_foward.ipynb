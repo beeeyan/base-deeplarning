{
 "cells": [
  {
   "cell_type": "markdown",
   "metadata": {},
   "source": [
    "### 行列による順伝播の演算\n",
    "パッチ学習やミニパッチ学習に対応するために、これ以降は層への入力、層への出力、及び正解を行列で表現する。  \n",
    "今回は、行列を用いた順伝播の演算について見ていく。"
   ]
  },
  {
   "cell_type": "markdown",
   "metadata": {},
   "source": [
    "### 行列の形式\n",
    "以下に、バッチ学習やミニバッチ学習に対応した行列の形式を示す、  \n",
    "それぞれ層への入力、層からの出力、正解を表す3つの行列が示されている。  \n",
    "\n",
    "<img src=\"../images/matrix_batch.png\">\n",
    "\n",
    "これらの行列は行数がバッチサイズに等しく、列数はそれぞれ、層への入力数、層からの出力数、正解数となっています。  \n",
    "層からの出力数は、層のニューロン数と等しくなります。  \n",
    "これらの行列の各行は、各サンプルに対応します。    \n",
    "\n",
    "例えばバッチサイズが8、入力数（上の層のニューロン数）が3であれば、層への入力を表す行列のサイズは8x3になります。"
   ]
  },
  {
   "cell_type": "markdown",
   "metadata": {},
   "source": [
    "### 行列による順伝播伝播順伝播においては、行列積により入力と重みの積の総和を得ることができます。  \n",
    "ニューロン数が$n$の層における順伝播を考えましょう。  \n",
    "バッチサイズを$h$、入力の数（上の層のニューロン数）を$m$とすれば、入力を表す行列のサイズは、h x mになります。  \n",
    "また、重みを表す行列のサイズをm x nとします。  \n",
    "\n",
    "以下の式では、入力と重みの行列積を求めています。  \n",
    "$X$が入力を表す行列で、$W$が重みを表す行列です。  \n",
    "\n",
    "$$  \\begin{aligned} \\\\\n",
    "XW & = \\left(\n",
    "    \\begin{array}{cc}\n",
    "      x_{11} & x_{12} & \\ldots & x_{1m} \\\\\n",
    "      x_{21} & x_{22} & \\ldots & x_{2m} \\\\\n",
    "      \\vdots & \\vdots & \\ddots & \\vdots \\\\\n",
    "      x_{h1} & x_{h2} & \\ldots & x_{hm} \\\\\n",
    "    \\end{array}\n",
    "  \\right)\n",
    "\\left(\n",
    "    \\begin{array}{cccc}\n",
    "      w_{11} & w_{12} & \\ldots & w_{1n} \\\\\n",
    "      w_{21} & w_{22} & \\ldots & w_{2n} \\\\\n",
    "      \\vdots & \\vdots & \\ddots & \\vdots \\\\\n",
    "      w_{m1} & w_{m2} & \\ldots & w_{mn} \\\\\n",
    "    \\end{array}\n",
    "  \\right) \\\\\n",
    "  & = \\left(\n",
    "    \\begin{array}{cccc}\n",
    "      \\sum\\limits_{k=1}^m x_{1k}w_{k1} & \\sum\\limits_{k=1}^m x_{1k}w_{k2} & \\ldots & \\sum\\limits_{k=1}^m x_{1k}w_{kn} \\\\\n",
    "       \\sum\\limits_{k=1}^m x_{2k}w_{k1} & \\sum\\limits_{k=1}^m x_{2k}w_{k2} & \\ldots & \\sum\\limits_{k=1}^m x_{2k}w_{kn} \\\\\n",
    "      \\vdots & \\vdots & \\ddots & \\vdots \\\\\n",
    "      \\sum\\limits_{k=1}^m x_{hk}w_{k1} & \\sum\\limits_{k=1}^m x_{hk}w_{k2} & \\ldots & \\sum\\limits_{k=1}^m x_{hk}w_{kn} \\\\\n",
    "    \\end{array}\n",
    "  \\right)\n",
    "  \\end{aligned}\n",
    "  $$ \n",
    "\n",
    "各要素が、入力と重みの積の総和である行列を得ることができました。  \n",
    "この行列は、行数がバッチサイズで、列数がこの層のニューロン数になります。 \n",
    "\n",
    "この行列にバイアスを足し合わせますが、バイアスはベクトルで形状が合わないので、Numpyのブロードキャストという機能を使用します。  \n",
    "**ブロードキャスト**を使うと、各行に対してベクトルを足すことができます。  \n",
    "バイアスは次のように表されます。\n",
    "\n",
    "$$ \\vec{b} = (b_1, b_2, \\cdots, b_n) $$\n",
    "\n",
    "このバイアスをブロードキャストにより足し合わせた行列は、以下のようになります。\n",
    "\n",
    "$$  \\begin{aligned} \\\\\n",
    "U & = \\left(\n",
    "    \\begin{array}{cccc}\n",
    "      \\sum\\limits_{k=1}^m x_{1k}w_{k1}+b_{1} & \\sum\\limits_{k=1}^m x_{1k}w_{k2}+b_{2} & \\ldots & \\sum\\limits_{k=1}^m x_{1k}w_{kn}+b_{n} \\\\\n",
    "       \\sum\\limits_{k=1}^m x_{2k}w_{k1}+b_{1} & \\sum\\limits_{k=1}^m x_{2k}w_{k2}+b_{2} & \\ldots & \\sum\\limits_{k=1}^m x_{2k}w_{kn}+b_{n} \\\\\n",
    "      \\vdots & \\vdots & \\ddots & \\vdots \\\\\n",
    "      \\sum\\limits_{k=1}^m x_{hk}w_{k1}+b_{1} & \\sum\\limits_{k=1}^m x_{hk}w_{k2}+b_{2} & \\ldots & \\sum\\limits_{k=1}^m x_{hk}w_{kn}+b_{n} \\\\\n",
    "    \\end{array}\n",
    "  \\right)\n",
    "  \\end{aligned}\n",
    "  $$ \n",
    "\n",
    "この行列の各要素を活性化関数$f$で処理し、出力$Y$を得ます。  \n",
    "\n",
    "$$  \\begin{aligned} \\\\\n",
    "Y & = f(U) \\\\\n",
    " & = \\left(\n",
    "    \\begin{array}{cccc}\n",
    "      f(\\sum\\limits_{k=1}^m x_{1k}w_{k1}+b_{1}) & f(\\sum\\limits_{k=1}^m x_{1k}w_{k2}+b_{2}) & \\ldots & f(\\sum\\limits_{k=1}^m x_{1k}w_{kn}+b_{n}) \\\\\n",
    "       f(\\sum\\limits_{k=1}^m x_{2k}w_{k1}+b_{1}) & f(\\sum\\limits_{k=1}^m x_{2k}w_{k2}+b_{2}) & \\ldots & f(\\sum\\limits_{k=1}^m x_{2k}w_{kn}+b_{n}) \\\\\n",
    "      \\vdots & \\vdots & \\ddots & \\vdots \\\\\n",
    "      f(\\sum\\limits_{k=1}^m x_{hk}w_{k1}+b_{1}) & f(\\sum\\limits_{k=1}^m x_{hk}w_{k2}+b_{2}) & \\ldots & f(\\sum\\limits_{k=1}^m x_{hk}w_{kn}+b_{n}) \\\\\n",
    "    \\end{array}\n",
    "  \\right)\n",
    "  \\end{aligned}\n",
    "  $$\n",
    "\n",
    "層の出力$Y$は、h x n、すなわち(バッチサイズ)x(ニューロン数)の行列になります。"
   ]
  },
  {
   "cell_type": "code",
   "execution_count": null,
   "metadata": {},
   "outputs": [],
   "source": [
    "# コードにすると…\n",
    "u = np.dot(x, w) +b\n",
    "y = 1/(1+np.exp(-u))"
   ]
  },
  {
   "cell_type": "markdown",
   "metadata": {},
   "source": [
    "活性化関数にはシグモイド関数を使用しています。  \n",
    "`x`は入力の行列で、`w`は重みの行列、`b`がバイアスのベクトルです。  \n",
    "`u`の各要素を活性化関数で処理して、この層の出力`y`を得ます。"
   ]
  },
  {
   "cell_type": "code",
   "execution_count": null,
   "metadata": {},
   "outputs": [],
   "source": []
  }
 ],
 "metadata": {
  "kernelspec": {
   "display_name": "Python 3",
   "language": "python",
   "name": "python3"
  },
  "language_info": {
   "codemirror_mode": {
    "name": "ipython",
    "version": 3
   },
   "file_extension": ".py",
   "mimetype": "text/x-python",
   "name": "python",
   "nbconvert_exporter": "python",
   "pygments_lexer": "ipython3",
   "version": "3.6.8"
  }
 },
 "nbformat": 4,
 "nbformat_minor": 2
}
