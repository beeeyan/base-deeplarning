{
 "cells": [
  {
   "cell_type": "markdown",
   "metadata": {},
   "source": [
    "### 正規分布\n",
    "正規分布(normal distribution)はガウス分布（Gaussian distribution）とも呼ばれ、自然界や人間の行動・性質など様々な現象に対してよく当てはまるデータ分布です。  \n",
    "例えば、製品のサイズやヒトの身長、テストの成績などは正規分布におおよそ従います。  \n",
    "ニューラルネットワークは多くの変動するパラメータを持っていますが、これらのパラメータの初期値はしばしば正規分布にしたがってランダムに決定されます。"
   ]
  },
  {
   "cell_type": "markdown",
   "metadata": {},
   "source": [
    "平均値、飛ばす。"
   ]
  },
  {
   "cell_type": "code",
   "execution_count": 2,
   "metadata": {},
   "outputs": [
    {
     "name": "stdout",
     "output_type": "stream",
     "text": [
      "50.0\n"
     ]
    }
   ],
   "source": [
    "import numpy as np\n",
    "\n",
    "x = np.array([55, 45, 60, 40])\n",
    "\n",
    "print(np.average(x))"
   ]
  },
  {
   "cell_type": "markdown",
   "metadata": {},
   "source": [
    "### 分散\n",
    "分散は以下の式のVで表される。  \n",
    "\n",
    "$$V=\\frac{1}{n}\\sum_{k=1}^n (x_k-\\mu)^2$$\n",
    "\n",
    "この式において、$n$は値の数、$x_k$は値、$\\mu$は平均値です。  \n",
    "平均値との差を2乗し、平均をとっています。"
   ]
  },
  {
   "cell_type": "code",
   "execution_count": 1,
   "metadata": {},
   "outputs": [
    {
     "name": "stdout",
     "output_type": "stream",
     "text": [
      "62.5\n"
     ]
    }
   ],
   "source": [
    "# コードで書くと\n",
    "import numpy as np\n",
    "\n",
    "x = np.array([55, 45, 60, 40]) # 分散をとるデータ\n",
    "\n",
    "print(np.var(x))"
   ]
  },
  {
   "cell_type": "markdown",
   "metadata": {},
   "source": [
    "### 標準偏差\n",
    "標準偏差は、以下のように分散の平方根により求めます。\n",
    "\n",
    "$$\\sigma = \\sqrt V=\\sqrt{\\frac{1}{n}\\sum_{k=1}^n (x_k-\\mu)^2}$$\n",
    "\n",
    "標準偏差も、分散と同様に値のばらつき具合の指標です。  \n",
    "標準偏差は単位の次元が元の値と同じなので、値の散らばり具合を直感的に表現する際には標準偏差が適している場合が多い"
   ]
  },
  {
   "cell_type": "code",
   "execution_count": 2,
   "metadata": {},
   "outputs": [
    {
     "name": "stdout",
     "output_type": "stream",
     "text": [
      "7.905694150420948\n"
     ]
    }
   ],
   "source": [
    "# コードで書くと\n",
    "import numpy as np\n",
    "\n",
    "x = np.array([55, 45, 60, 40]) # 標準偏差をとるデータ\n",
    "\n",
    "print(np.std(x))"
   ]
  },
  {
   "cell_type": "markdown",
   "metadata": {},
   "source": [
    "#　正規分布\n",
    "（教材のコピー）  \n",
    "正規分布は、以下のような釣鐘型のグラフで表されます。\n",
    "\n",
    "<img src=\"../images/normal.png\">\n",
    "\n",
    "このグラフにおいて、横軸はある値を、縦軸はその値の頻度や確率を表します。  \n",
    "$\\mu$は平均値で分布の中央になり、$\\sigma$は標準偏差で分布の広がり具合を表します。  \n",
    "\n",
    "正規分布は、以下の確率密度関数と呼ばれる関数で表されます。  \n",
    "\n",
    "$$ y=\\frac{1}{ \\sigma\\sqrt{2\\pi}}\\exp(-\\frac{(x-\\mu)^2}{2\\sigma ^2}) $$ \n",
    "\n",
    "少々複雑な式ですが、平均が0、標準偏差が1とすると次の比較的シンプルな形になります。\n",
    "\n",
    "$$ y=\\frac{1}{\\sqrt{2\\pi}}\\exp(-\\frac{x^2}{2}) $$ "
   ]
  },
  {
   "cell_type": "code",
   "execution_count": 4,
   "metadata": {},
   "outputs": [
    {
     "name": "stderr",
     "output_type": "stream",
     "text": [
      "findfont: Font family ['IPAexGothic'] not found. Falling back to DejaVu Sans.\n"
     ]
    },
    {
     "data": {
      "image/png": "[encoded data removed]",
      "text/plain": [
       "<Figure size 432x288 with 1 Axes>"
      ]
     },
     "metadata": {},
     "output_type": "display_data"
    }
   ],
   "source": [
    "import numpy as np\n",
    "import matplotlib.pyplot as plt\n",
    "\n",
    "sigma = 1 # 標準偏差\n",
    "mu =  0 # 平均値\n",
    "\n",
    "x = np.linspace(-5, 5)\n",
    "# 確率密度関数\n",
    "y = 1/ (sigma*np.sqrt(2*np.pi))*np.exp(-(x-mu)**2 / (2*sigma**2))\n",
    "\n",
    "plt.plot(x, y)\n",
    "plt.show()"
   ]
  },
  {
   "cell_type": "code",
   "execution_count": null,
   "metadata": {},
   "outputs": [],
   "source": []
  }
 ],
 "metadata": {
  "kernelspec": {
   "display_name": "Python 3",
   "language": "python",
   "name": "python3"
  },
  "language_info": {
   "codemirror_mode": {
    "name": "ipython",
    "version": 3
   },
   "file_extension": ".py",
   "mimetype": "text/x-python",
   "name": "python",
   "nbconvert_exporter": "python",
   "pygments_lexer": "ipython3",
   "version": "3.6.8"
  }
 },
 "nbformat": 4,
 "nbformat_minor": 2
}
