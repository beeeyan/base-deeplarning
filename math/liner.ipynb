{
 "cells": [
  {
   "cell_type": "markdown",
   "metadata": {},
   "source": [
    "### 線形代数の基礎\n",
    "線形代数は、ベクトルや行列などを扱う数学の分野の一つです。  \n",
    "ディープラーニングでは、多くの数値を扱う必要があるのですが、線形代数を用いれば多くの数値に対する処理を簡潔な数式で記述することができます。"
   ]
  },
  {
   "cell_type": "markdown",
   "metadata": {},
   "source": [
    "### スカラー\n",
    "スカラー（scalar）は1、５、1.2、-7など通常の数値のこと。  \n",
    "数式におけるアルファベット・ギリシャ文字の小文字はスカラー"
   ]
  },
  {
   "cell_type": "code",
   "execution_count": 1,
   "metadata": {},
   "outputs": [],
   "source": [
    "# コード\n",
    "a = 1\n",
    "b = 1.2\n",
    "c = -0.25\n",
    "d = 1.2e5 # 1.2×10の5乗"
   ]
  },
  {
   "cell_type": "markdown",
   "metadata": {},
   "source": [
    "### ベクトル\n",
    "ベクトルは、スカラーを直線上に並べたものです。  \n",
    "アルファベットの小文字に矢印を乗せたものでベクトルを表します。\n",
    "$$ \\begin{aligned}\n",
    "\\vec{a} & = \\left(\n",
    "    \\begin{array}{c}\n",
    "      1 \\\\\n",
    "      2 \\\\\n",
    "      3\n",
    "    \\end{array}\n",
    " \\right) \\\\\n",
    " \\vec{b} & = (-2.3, 0.25, -1.2, 1.8, 0.41) \\\\\n",
    " \\vec{p} & = \\left(\n",
    "    \\begin{array}{c}\n",
    "      p_1 \\\\\n",
    "      p_2 \\\\\n",
    "      \\vdots \\\\\n",
    "      p_m\n",
    "    \\end{array}\n",
    " \\right) \\\\\n",
    "\\vec{q} & = (q_1, q_2, \\cdots, q_n)\n",
    "\\end{aligned} $$"
   ]
  },
  {
   "cell_type": "markdown",
   "metadata": {},
   "source": [
    "縦ベクトルと横ベクトルがある。  \n",
    "ベクトルはNumpyの1次元配列を用いて以下のように表せます。"
   ]
  },
  {
   "cell_type": "code",
   "execution_count": 2,
   "metadata": {},
   "outputs": [
    {
     "name": "stdout",
     "output_type": "stream",
     "text": [
      "[1 2 3]\n",
      "[-2.3   0.25 -1.2   1.8   0.41]\n"
     ]
    }
   ],
   "source": [
    "import numpy as np\n",
    "\n",
    "a = np.array([1, 2, 3])\n",
    "print(a)\n",
    "\n",
    "b = np.array([-2.3, 0.25, -1.2, 1.8, 0.41])\n",
    "print(b)"
   ]
  },
  {
   "cell_type": "markdown",
   "metadata": {},
   "source": [
    "### 行列\n",
    "行列はスカラーを格子状に並べたもの。\n",
    "$$\n",
    "   \\left(\n",
    "    \\begin{array}{cccc}\n",
    "      0.12 & -0.34 & 1.3 & 0.81 \\\\\n",
    "      -1.4 & 0.25 & 0.69 & -0.41 \\\\\n",
    "      0.25 & -1.5 & -0.15 & 1.1 \\\\\n",
    "    \\end{array}\n",
    "  \\right)\n",
    "$$\n",
    "\n",
    "なお、縦ベクトルは列の数が1の行列。  \n",
    "横ベクトルは行の数が1の行列と考えることもできる。  \n",
    "アルファベット大文字のイタリックで行列を表す。  \n",
    "  \n",
    " $$\n",
    "   A = \\left(\n",
    "    \\begin{array}{cccc}\n",
    "      0 & 1 & 2 \\\\\n",
    "      3 & 4 & 5 \\\\\n",
    "    \\end{array}\n",
    "  \\right)\n",
    "$$\n",
    "$$\n",
    "   P = \\left(\n",
    "    \\begin{array}{cccc}\n",
    "      p_{11} & p_{12} & \\ldots & p_{1n} \\\\\n",
    "      p_{21} & p_{22} & \\ldots & p_{2n} \\\\\n",
    "      \\vdots & \\vdots & \\ddots & \\vdots \\\\\n",
    "      p_{m1} & p_{m2} & \\ldots & p_{mn} \\\\\n",
    "    \\end{array}\n",
    "  \\right) \n",
    "$$\n",
    "\n",
    "行列$A$は2x3の行列で、行列$P$はm x nの行列です。  \n",
    "また、$P$に見られるように、行列の要素を変数で表す際の添字の数は2つです。  "
   ]
  },
  {
   "cell_type": "code",
   "execution_count": 3,
   "metadata": {},
   "outputs": [
    {
     "name": "stdout",
     "output_type": "stream",
     "text": [
      "[[1 2 3]\n",
      " [4 5 6]]\n",
      "[[ 0.21  0.14]\n",
      " [-1.3   0.81]\n",
      " [ 0.12 -2.1 ]]\n"
     ]
    }
   ],
   "source": [
    "import numpy as np\n",
    "\n",
    "a = np.array([[1, 2, 3],\n",
    "                        [4, 5, 6]]) # 2×3の行列\n",
    "print(a)\n",
    "b = np.array([[0.21, 0.14],\n",
    "                        [-1.3,  0.81],\n",
    "                        [0.12, -2.1]])\n",
    "print(b)"
   ]
  },
  {
   "cell_type": "markdown",
   "metadata": {},
   "source": [
    "### テンソル\n",
    "テンソルはスカラーを複数の次元に並べたもので、スカラー、ベクトル、行列を含む。  \n",
    "テンソルの概念（教材のコピペ）  \n",
    "  \n",
    " <img src=\"../images/tensor.png\"> \n",
    " \n",
    " 各要素につく添字の数をmそのテンソルの階数といいます。  \n",
    " スカラーには添字がないので0階のテンソル、ベクトルは添字が1つなので1階のテンソル、行列は添字が2つなので2階のテンソルなります。  \n",
    " より高次元なものは、3階のテンソル、4階のテンソル・・となります。\n",
    " \n",
    " Numpyの多次元配列を用いると、例えば次のように3階のテンソルを表現することができます。"
   ]
  },
  {
   "cell_type": "code",
   "execution_count": 4,
   "metadata": {},
   "outputs": [
    {
     "name": "stdout",
     "output_type": "stream",
     "text": [
      "[[[0 1 2 3]\n",
      "  [2 3 4 5]\n",
      "  [4 5 6 7]]\n",
      "\n",
      " [[1 2 3 4]\n",
      "  [3 4 5 6]\n",
      "  [5 6 7 8]]]\n"
     ]
    }
   ],
   "source": [
    "import numpy as np\n",
    "\n",
    "a = np.array([[[0, 1, 2, 3],\n",
    "                          [2, 3, 4, 5],\n",
    "                          [4, 5, 6, 7]],\n",
    "             \n",
    "                        [[1, 2, 3, 4],\n",
    "                          [3, 4, 5, 6],\n",
    "                          [5, 6, 7, 8]]]) # (2, 3, 4)の3階のテンソル\n",
    "print(a)"
   ]
  },
  {
   "cell_type": "markdown",
   "metadata": {},
   "source": [
    "このコードにおけるaは3階のテンソルです。  \n",
    "Numpyを利用すれば、さらに高次元の配列を表現することができます。(でも書きにくいなー感)"
   ]
  },
  {
   "cell_type": "markdown",
   "metadata": {},
   "source": [
    "### 行列積\n",
    "行列積では、前の行列における行の各要素と、後ろの行列における列の各要素を掛け合わせて総和をとり、新しい行列の要素とする。  \n",
    "左の行列の全ての行と、右の行列の全ての列の組み合わせで演算を行、新たな行列を作ります。行列積の例をみてみましょう（教材のコピー）  \n",
    "\n",
    "まず、行列$A$と$B$を次のように設定します。  \n",
    "\n",
    "$$\n",
    "   A = \\left(\n",
    "    \\begin{array}{ccc}\n",
    "      a_{11} & a_{12} & a_{13} \\\\\n",
    "      a_{21} & a_{22} & a_{23} \\\\\n",
    "    \\end{array}\n",
    "  \\right)\n",
    "$$ \n",
    "\n",
    "$$ \n",
    "   B = \\left(\n",
    "    \\begin{array}{cc}\n",
    "      b_{11} & b_{12} \\\\\n",
    "      b_{21} & b_{22} \\\\\n",
    "      b_{31} & b_{32} \\\\\n",
    "    \\end{array}\n",
    "  \\right)\n",
    "$$ \n",
    "\n",
    "$A$は2x3の行列で、$B$は3x2の行列です。  \n",
    "そして、$A$と$B$の積を次のように表します。  \n",
    "\n",
    "$$ \n",
    "   AB = \\left(\n",
    "    \\begin{array}{ccc}\n",
    "      a_{11} & a_{12} & a_{13} \\\\\n",
    "      a_{21} & a_{22} & a_{23} \\\\\n",
    "    \\end{array}\n",
    "  \\right) \n",
    "  \\left(\n",
    "    \\begin{array}{cc}\n",
    "      b_{11} & b_{12} \\\\\n",
    "      b_{21} & b_{22} \\\\\n",
    "      b_{31} & b_{32} \\\\\n",
    "    \\end{array}\n",
    "  \\right) \\\\\n",
    " = \\left(\n",
    "    \\begin{array}{ccc}\n",
    "      a_{11}b_{11}+a_{12}b_{21}+a_{13}b_{31} & a_{11}b_{12}+a_{12}b_{22}+a_{13}b_{32} \\\\\n",
    "      a_{21}b_{11}+a_{22}b_{21}+a_{23}b_{31} & a_{21}b_{12}+a_{22}b_{22}+a_{23}b_{32} \\\\\n",
    "    \\end{array}\n",
    "  \\right) \\\\\n",
    " = \\left(\n",
    "    \\begin{array}{ccc}\n",
    "      \\sum\\limits_{k=1}^3 a_{1k}b_{k1} & \\sum\\limits_{k=1}^3 a_{1k}b_{k2} \\\\\n",
    "      \\sum\\limits_{k=1}^3 a_{2k}b_{k1} & \\sum\\limits_{k=1}^3 a_{2k}b_{k2} \\\\\n",
    "    \\end{array}\n",
    "  \\right)\n",
    "$$ \n",
    "\n",
    "$A$の各行と$B$の各列の各要素を掛け合わせて総和をとり、新しい行列の各要素とします。  \n",
    "上記の行列積には総和の記号$\\Sigma$が登場していますが、行列積は積の総和を計算する際に大活躍します。  \n",
    "人工知能では積の総和を頻繁に計算するので、行列積は欠くことができません。 "
   ]
  },
  {
   "cell_type": "markdown",
   "metadata": {},
   "source": [
    "スカラーの積と異なり、行列積においては、前の行列と後ろの行列の交換は特定の条件を除きできません。  \n",
    "そして、行列積を計算するには、**前の行列の列数と、後ろの行列の行数が一致していなければいけません**  \n",
    "例えば、前の行列の列数が3であれば、後ろの行列の行数は3である必要があります。"
   ]
  },
  {
   "cell_type": "code",
   "execution_count": 3,
   "metadata": {},
   "outputs": [
    {
     "name": "stdout",
     "output_type": "stream",
     "text": [
      "[[ 6  3]\n",
      " [12  6]]\n"
     ]
    }
   ],
   "source": [
    "# コードでかくと\n",
    "import numpy as np\n",
    " \n",
    "a = np.array([[0, 1, 2],\n",
    "                         [1, 2, 3]])\n",
    "b = np.array([[2, 1],\n",
    "                         [2, 1],\n",
    "                         [2, 1]])\n",
    "print(np.dot(a, b))"
   ]
  },
  {
   "cell_type": "markdown",
   "metadata": {},
   "source": [
    "### 要素ごとの積（アダマール積）\n",
    "\n",
    "行列の要素ごとの積は、アダマール積とも呼ばれており、行列の各要素を掛け合わせます。  \n",
    "以下の行列$A$、$B$を考えましょう。\n",
    "\n",
    "$$  \\begin{aligned} \\\\\n",
    "   A & = \\left(\n",
    "    \\begin{array}{cccc}\n",
    "      a_{11} & a_{12} & \\ldots & a_{1n} \\\\\n",
    "      a_{21} & a_{22} & \\ldots & a_{2n} \\\\\n",
    "      \\vdots & \\vdots & \\ddots & \\vdots \\\\\n",
    "      a_{m1} & a_{m2} & \\ldots & a_{mn}\n",
    "    \\end{array}\n",
    "  \\right) \\\\\n",
    "   B & = \\left(\n",
    "    \\begin{array}{cccc}\n",
    "      b_{11} & b_{12} & \\ldots & b_{1n} \\\\\n",
    "      b_{21} & b_{22} & \\ldots & b_{2n} \\\\\n",
    "      \\vdots & \\vdots & \\ddots & \\vdots \\\\\n",
    "      b_{m1} & b_{m2} & \\ldots & b_{mn}\n",
    "    \\end{array}\n",
    "  \\right)\n",
    "\\end{aligned} $$ \n",
    "\n",
    "これらの行列の要素ごとの積は、演算子$\\circ$を用いて次のように表すことができます。\n",
    "\n",
    "$$\n",
    "   A\\circ B = \\left(\n",
    "    \\begin{array}{cccc}\n",
    "      a_{11}b_{11} & a_{12}b_{12} & \\ldots & a_{1n}b_{1n} \\\\\n",
    "      a_{21}b_{21} & a_{22}b_{22} & \\ldots & a_{2n}b_{2n} \\\\\n",
    "      \\vdots & \\vdots & \\ddots & \\vdots \\\\\n",
    "      a_{m1}b_{m1} & a_{m2}b_{m2} & \\ldots & a_{mn}b_{mn}\n",
    "    \\end{array}\n",
    "  \\right)\n",
    "$$\n"
   ]
  },
  {
   "cell_type": "code",
   "execution_count": 4,
   "metadata": {},
   "outputs": [
    {
     "name": "stdout",
     "output_type": "stream",
     "text": [
      "[[ 0  1  4]\n",
      " [ 6  0  5]\n",
      " [ 6 14  0]]\n"
     ]
    }
   ],
   "source": [
    "# コードで書くと\n",
    "import numpy as np\n",
    "\n",
    "a = np.array([[0, 1, 2],\n",
    "                        [3, 4, 5],\n",
    "                        [6, 7 , 8]])\n",
    "b = np.array([[0, 1, 2],\n",
    "                        [2, 0, 1],\n",
    "                        [1, 2, 0]])\n",
    "\n",
    "print(a*b)"
   ]
  },
  {
   "cell_type": "markdown",
   "metadata": {},
   "source": [
    "要素ごとの積をけいさんするためには、配列の形状が同じである必要があります。  \n",
    "要素ごとの和には+,要素ごとの差には-,要素ごとの割り算には/を使います"
   ]
  },
  {
   "cell_type": "markdown",
   "metadata": {},
   "source": [
    "### 転置\n",
    "行列を転置することにより、行と列が入れ替わります。  \n",
    "例えば行列$A$の転置行列は$A^{\\mathrm{T}}$と表します。  \n",
    "\n",
    "\n",
    "$$  \\begin{aligned} \\\\\n",
    "   A & = \\left(\n",
    "    \\begin{array}{ccc}\n",
    "      1 & 2 & 3 \\\\\n",
    "      4 & 5 & 6 \\\\\n",
    "    \\end{array}\n",
    "  \\right) \\\\\n",
    "   A^{\\mathrm{T}} & = \\left(\n",
    "    \\begin{array}{cc}\n",
    "      1 & 4 \\\\\n",
    "      2 & 5 \\\\\n",
    "      3 & 6 \\\\\n",
    "    \\end{array}\n",
    "  \\right) \\\\\n",
    "\\end{aligned} $$ \n",
    "\n",
    "$$  \\begin{aligned} \\\\\n",
    "   B & = \\left(\n",
    "    \\begin{array}{cc}\n",
    "      a & b \\\\\n",
    "      c & d \\\\\n",
    "      e & f \\\\\n",
    "    \\end{array}\n",
    "  \\right) \\\\\n",
    "   B^{\\mathrm{T}} & = \\left(\n",
    "    \\begin{array}{ccc}\n",
    "      a & c & e \\\\\n",
    "      b & d & f \\\\\n",
    "    \\end{array}\n",
    "  \\right) \\\\\n",
    "\\end{aligned} $$ "
   ]
  },
  {
   "cell_type": "code",
   "execution_count": 5,
   "metadata": {},
   "outputs": [
    {
     "name": "stdout",
     "output_type": "stream",
     "text": [
      "[[1 4]\n",
      " [2 5]\n",
      " [3 6]]\n"
     ]
    }
   ],
   "source": [
    "#コードにすると（すごく簡単）\n",
    "import numpy as np\n",
    "\n",
    "a = np.array([[1,2,3],\n",
    "                        [4,5,6]])\n",
    "print(a.T)"
   ]
  },
  {
   "cell_type": "code",
   "execution_count": null,
   "metadata": {},
   "outputs": [],
   "source": []
  }
 ],
 "metadata": {
  "kernelspec": {
   "display_name": "Python 3",
   "language": "python",
   "name": "python3"
  },
  "language_info": {
   "codemirror_mode": {
    "name": "ipython",
    "version": 3
   },
   "file_extension": ".py",
   "mimetype": "text/x-python",
   "name": "python",
   "nbconvert_exporter": "python",
   "pygments_lexer": "ipython3",
   "version": "3.6.8"
  }
 },
 "nbformat": 4,
 "nbformat_minor": 2
}
