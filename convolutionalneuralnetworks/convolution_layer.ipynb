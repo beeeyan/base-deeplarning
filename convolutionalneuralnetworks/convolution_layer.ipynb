{
 "cells": [
  {
   "cell_type": "markdown",
   "metadata": {},
   "source": [
    "### 畳み込み層の実装\n",
    "畳み込み層の具体的な実装方法を解説します。\n",
    "順伝播、逆伝播のコードを実装していく"
   ]
  },
  {
   "cell_type": "markdown",
   "metadata": {},
   "source": [
    "### 畳み込み層のクラス\n",
    "畳み込み層は、以下のようにクラスとして実装します。"
   ]
  },
  {
   "cell_type": "code",
   "execution_count": null,
   "metadata": {},
   "outputs": [],
   "source": [
    "# -- 畳み込み層　 --\n",
    "class ConvLayer:\n",
    "    \n",
    "    # n_bt : バッチサイズ、 x_ch : 入力チャンネル数、 x_h : 入力画像高さ、　x_w : 入力画像幅\n",
    "    # n_flt : フィルタ数、 flt_h : フィルタ高さ、 flt_w : フィルタ幅\n",
    "    # stride : スライド幅、pad : パディング幅\n",
    "    # y_ch : 出力チャンネル数、　y_h : 出力高さ、　y_w : 出力幅\n",
    "    \n",
    "    def __init__(self, x_ch, x_h, x_w, n_flt, flt_h, flt_w, stride, pad):\n",
    "        \n",
    "        # パラメータをまとめる\n",
    "        # 変更したり外部からアクセスしたりする必要のないパラメータをself.paramsにまとめられている\n",
    "        self.params = (x_ch, x_h, x_w, n_flt, flt_h, flt_w, stride, pad)\n",
    "        \n",
    "        # フィルタとバイアスの初期値\n",
    "        # フィルタは重みと同じように扱うことができる\n",
    "        self.w = wb_width * np.random.randn(n_flt, x_ch, flt_b, flt_w)\n",
    "        self.b = wb_width * np.random.randn(1, n_flt)\n",
    "        \n",
    "        # 出力画像のサイズ\n",
    "        self.y_ch = n_flt # 出力チャンネル数\n",
    "        self.y_h = (x_h - flt_h + 2*pad) // stride + 1 # 出力高さ\n",
    "        self.y_w = (x_w - flt_w + 2*pad) // stride + 1 # 出力幅\n",
    "        \n",
    "        ..."
   ]
  },
  {
   "cell_type": "markdown",
   "metadata": {},
   "source": [
    "__initi__メソッドでは、変更したり外部からのアクセスしたりする必要のないパラメータを`self.params`にまとめています。  \n",
    "また、フィルタ（`self.w`）とバイアス(`b`)の初期値を設定しています。  \n",
    "フィルタはニューロンの重みと同じように扱うことができるため、変数名は`w`としています。  \n",
    "  \n",
    "出力画像のチャンネル数、高さ、幅は、外部からアクセス可能にするために`self`が付けられています。  \n",
    "このクラスに、メソッドとして順伝播と逆伝播を実装します"
   ]
  },
  {
   "cell_type": "markdown",
   "metadata": {},
   "source": [
    "### 畳み込み層の順伝播\n",
    "畳み込み層の順伝播を図で表すと、以下のようになります。  \n",
    "  \n",
    "<img src=\"../images/conv_forward.png\">\n",
    "  \n",
    "この図を踏まえて、畳み込み層における順伝播を以下のようにメソッドとして実装します"
   ]
  },
  {
   "cell_type": "code",
   "execution_count": null,
   "metadata": {},
   "outputs": [],
   "source": [
    "def forward(self, x):\n",
    "    n_bt = x.shape[0]\n",
    "    x_ch, x_h, x_w, n_flt, flt_h, flt_w, stride, pad = self.params\n",
    "    y_ch, y_h, y_w = self.y_ch, self.y_h, self.y_w\n",
    "    \n",
    "    # 入力画像とフィルタを行列に変換\n",
    "    # reshapeどういった方針でやっているのかあんま分かっていない・・\n",
    "    self.cols = im2col(x, flt_h, flt_w, y_h, y_w, stride, pad)\n",
    "    self.w_col = self.w.reshape(n_flt, x_ch*flt_h*flt_w)\n",
    "    \n",
    "    # 出力の計算 : 行列積、バイアスの加算、活性化関数\n",
    "    u = np.dot(self.w_col, self.cols).T + self.b\n",
    "    self.u = u.reshape(n_bt, y_h, y_w, y_ch).transpose(0, 3, 1, 2)\n",
    "    # ReLU\n",
    "    self.y = np.where(self.u <= 0, 0,  self.u)"
   ]
  },
  {
   "cell_type": "code",
   "execution_count": null,
   "metadata": {},
   "outputs": [],
   "source": []
  }
 ],
 "metadata": {
  "kernelspec": {
   "display_name": "Python 3",
   "language": "python",
   "name": "python3"
  },
  "language_info": {
   "codemirror_mode": {
    "name": "ipython",
    "version": 3
   },
   "file_extension": ".py",
   "mimetype": "text/x-python",
   "name": "python",
   "nbconvert_exporter": "python",
   "pygments_lexer": "ipython3",
   "version": "3.6.8"
  }
 },
 "nbformat": 4,
 "nbformat_minor": 4
}
