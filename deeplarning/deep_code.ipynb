{
 "cells": [
  {
   "cell_type": "markdown",
   "metadata": {},
   "source": [
    "### 全体のコード\n",
    "Irisを分類するためのコードを実装します。"
   ]
  },
  {
   "cell_type": "markdown",
   "metadata": {},
   "source": [
    "### ミニバッチ法の実装\n",
    "今回はミニバッチ法を用いるので、バッチごとに重みとバイアスを更新する。  \n",
    "以下はミニバッチ法による学習の実装です。"
   ]
  },
  {
   "cell_type": "code",
   "execution_count": null,
   "metadata": {},
   "outputs": [],
   "source": [
    "# -- 学習と経過の記録　--\n",
    "n_batch = n_train // batch_size # 1エポックあたりのバッチ数\n",
    "\n",
    "for i in range(epoch):\n",
    "    \n",
    "    …\n",
    "    \n",
    "    # -- 学習 --\n",
    "    index_random = np.arange(n_train)\n",
    "    np.random.shuffle(index_random) # インデックスをシャッフルする\n",
    "    \n",
    "    for j in range(n_batch):\n",
    "        \n",
    "        # ミニバッチを取り出す\n",
    "        mb_index = index_random[j*batch_size : (j+1)*batch_size]\n",
    "        x = input_train[mb_index, :]\n",
    "        t = correct_train[mb_index, :]\n",
    "        \n",
    "        # 順伝播と逆伝播\n",
    "        forward_propagation(x)\n",
    "        back_propagation(t)\n",
    "        \n",
    "        # 重みとバイアスの更新\n",
    "        update_wb()"
   ]
  },
  {
   "cell_type": "markdown",
   "metadata": {},
   "source": [
    "コードではまず、`n_train`を`batch_size`で割ることで1エポックあたりのバッチ数を求めています。  \n",
    "学習に使うバッチ数が整数なので、端数として学習に使われないデータも存在することになりますが、少数でありバッチはエポックごとにランダムに選択されるので、今回はこれを無視します。  \n",
    "  \n",
    " 訓練データのサンプル数分だけインデックスを作成して`index_random`とし、これをシャッフルします。  \n",
    "そして、ループの中でこれからバッチサイズ分だけランダムなインデックスを取り出し、`mb_index`とします。  \n",
    "`input_train`と`correct_train`は行列ですが、これらからインデックスが`mb_index`の列を抜き出してミニバッチとします。  \n",
    "このミニバッチを使用して順伝播と逆伝播の計算を行い、重みとバイアスを更新します。"
   ]
  },
  {
   "cell_type": "markdown",
   "metadata": {},
   "source": [
    "### 正解率の測定\n",
    "学習の結果、訓練データのうち何%を正しく品種分類できるようになったのか、テストデータのうち何%を正しく品種分類できるようになったのかは学習の成否を判断するために重要です"
   ]
  },
  {
   "cell_type": "code",
   "execution_count": null,
   "metadata": {},
   "outputs": [],
   "source": [
    "# -- 正解率の測定 --\n",
    "forward_propagation(input_train)\n",
    "count_train = np.sum(np.argmax(output_layer.y, axis=1) == np.argmax(correct_train, axis=1))\n",
    "\n",
    "forward_propagation(input_test)\n",
    "count_test = np.sum(np.argmax(output_layer.y, axis=1) == np.argmax(correct_test, axis=1))\n",
    "\n",
    "print(\"Accuracy Train:\", str(conut_train/n_train*100) + \"%\",\n",
    "          \"Accuracy Test:\", str(count_test/n_test*100) + \"%\")"
   ]
  },
  {
   "cell_type": "markdown",
   "metadata": {},
   "source": [
    "コードでは、全訓練データとテストデータに対してそれぞれ順伝播の計算をした後、それぞれ正解数をカウントします。  \n",
    "正解数のカウントにはNumpyのargmax関数を用いますが、argmaxは最大値のインデックスを返します。  \n",
    "  \n",
    " 順伝播により得られた出力は(バッチサイズ)x(出力層のニューロン数)の行列になりますが、argmax関数で、各行のうち最大のもののインデックスを以下の箇所で取得します。  "
   ]
  },
  {
   "cell_type": "code",
   "execution_count": null,
   "metadata": {},
   "outputs": [],
   "source": [
    "np.argmax(output_layer.y, axis=1)"
   ]
  },
  {
   "cell_type": "markdown",
   "metadata": {},
   "source": [
    "取得したインデックスは、例えば以下のような一次元配列行列になります。  \n",
    "\n",
    "[1 0 2 ・・・（中略）・・・2]\n",
    "\n",
    "また、正解も(バッチサイズ)x(出力層のニューロン数)の行列になりますが、各行がone-hot表現になっています。  \n",
    "以下の箇所では、argmax関数で各行のうち最大のもの、すなわち値が1の要素のインデックスを取得します。"
   ]
  },
  {
   "cell_type": "code",
   "execution_count": null,
   "metadata": {},
   "outputs": [],
   "source": [
    "np.argmax(correct_train, axis=1)"
   ]
  },
  {
   "cell_type": "markdown",
   "metadata": {},
   "source": [
    "取得したインデックスは、例えば以下のような一次元配列になります。\n",
    "\n",
    "[1 0 1 ・・・（中略）・・・2]\n",
    "\n",
    "これら2つの行列の各要素が一致すれば、比較演算子`==`はTrueを返し、一致しなければFalseを返します。  \n",
    "結果として、サンプルごとの正解と不正解がTrueとFalseで表される以下のような配列ができます。\n",
    "\n",
    "[True True False ・・・（中略）・・・True]\n",
    "\n",
    "Pythonでは、Trueを1、Falseを0とみなすことができるので、Numpyのsum関数にこの配列を入れることで正解数をカウントすることができます。  \n",
    "コードでは、この正解数をサンプル数で割って100をかけることにより正解率としています。  "
   ]
  },
  {
   "cell_type": "markdown",
   "metadata": {},
   "source": [
    "### ディープラーニングのコード\n",
    "ディープラーニングのコード全体は以下の通りです。  \n",
    "実行すると、ディープニューラルネットワークがIrisの特徴を学習します。  \n",
    "  \n",
    " 学習中、1エポックごとに訓練データの誤差（訓練誤差）とテストデータ誤差（テスト誤差）がそれぞれ測定、記録されます。  \n",
    "学習終了後に、誤差の変動を表すグラフと正解率が表示される。"
   ]
  },
  {
   "cell_type": "code",
   "execution_count": 4,
   "metadata": {},
   "outputs": [
    {
     "name": "stdout",
     "output_type": "stream",
     "text": [
      "Epoch:0/100 Error_train:1.1108512814653564 Error_test:1.1089650072699537\n",
      "Epoch:20/100 Error_train:0.25515639663383355 Error_test:0.25393094026107654\n",
      "Epoch:40/100 Error_train:0.07560017392614267 Error_test:0.08784023560244593\n",
      "Epoch:60/100 Error_train:0.04892851783496089 Error_test:0.0902509566924768\n",
      "Epoch:80/100 Error_train:0.03452431683581224 Error_test:0.0661543110268494\n"
     ]
    },
    {
     "data": {
      "image/png": "[encoded data removed]",
      "text/plain": [
       "<Figure size 432x288 with 1 Axes>"
      ]
     },
     "metadata": {},
     "output_type": "display_data"
    },
    {
     "name": "stdout",
     "output_type": "stream",
     "text": [
      "Accuracy Train: 100.0% Accuracy Test: 97.33333333333334%\n"
     ]
    }
   ],
   "source": [
    "%matplotlib inline\n",
    "import numpy as np\n",
    "import matplotlib.pyplot as plt\n",
    "from sklearn import datasets\n",
    "\n",
    "# -- Irisデータの読み込み --\n",
    "iris_data = datasets.load_iris()\n",
    "input_data = iris_data.data\n",
    "correct = iris_data.target\n",
    "n_data = len(correct) # サンプル数\n",
    "\n",
    "# -- 入力データを標準化する　--\n",
    "ave_input = np.average(input_data, axis=0)\n",
    "std_input = np.std(input_data, axis=0)\n",
    "input_data = (input_data -ave_input) / std_input\n",
    "\n",
    "# -- 正解をone-hot表現にする --\n",
    "correct_data = np.zeros((n_data, 3))\n",
    "for i in range(n_data):\n",
    "    correct_data[i, correct[i]] = 1.0\n",
    "    \n",
    "# -- 訓練データとテストデータ\n",
    "index = np.arange(n_data)\n",
    "# こんな分け方でいいんだ\n",
    "index_train = index[index%2 == 0]\n",
    "index_test = index[index%2 != 0]\n",
    "\n",
    "# これで分けられるのすごい\n",
    "input_train = input_data[index_train, :] # 訓練　入力\n",
    "correct_train = correct_data[index_train, :] # 訓練　正解\n",
    "input_test = input_data[index_test, :] # テスト　入力\n",
    "correct_test = correct_data[index_test, :] # テスト　正解\n",
    "\n",
    "n_train = input_train.shape[0] # 訓練データのサンプル数\n",
    "n_test = input_test.shape[0] # テストデータのサンプル数\n",
    "\n",
    "# -- 各設定値 --\n",
    "n_in = 4 # 入力層のニューロン数\n",
    "n_mid = 25 # 中間層のニューロン数\n",
    "n_out = 3 # 出力層のニューロン数\n",
    "\n",
    "wb_width = 0.1 # 重みとバイアスの広がり具合\n",
    "eta = 0.01 # 学習係数\n",
    "epoch = 100\n",
    "batch_size = 8\n",
    "interval = 20 # 経過の表示間隔\n",
    "\n",
    "# -- 各層の継承元 --\n",
    "class BaseLayer:\n",
    "    def __init__(self, n_upper, n):\n",
    "        self.w = wb_width * np.random.randn(n_upper, n) # 重み（行列）\n",
    "        self.b = wb_width * np.random.randn(n) # バイアス（ベクトル）\n",
    "        \n",
    "    def update(self, eta):\n",
    "        self.w -= eta * self.grad_w\n",
    "        self.b -= eta * self.grad_b\n",
    "        \n",
    "# -- 中間層 --\n",
    "class MiddleLayer(BaseLayer):\n",
    "    # 順伝播\n",
    "    def forward(self, x):\n",
    "        self.x = x\n",
    "        self.u = np.dot(x, self.w) + self.b\n",
    "        self.y = np.where(self.u <= 0, 0, self.u) # ReLU\n",
    "        \n",
    "    # 逆伝播\n",
    "    def backward(self, grad_y):\n",
    "        delta = grad_y * np.where(self.u <= 0, 0, 1) # ReLU\n",
    "        \n",
    "        self.grad_w = np.dot(self.x.T, delta)\n",
    "        self.grad_b = np.sum(delta, axis=0)\n",
    "        \n",
    "        self.grad_x = np.dot(delta, self.w.T)\n",
    "        \n",
    "# -- 出力層 -- \n",
    "class OutputLayer(BaseLayer):\n",
    "    def forward(self, x):\n",
    "        self.x = x\n",
    "        u = np.dot(x, self.w) + self.b\n",
    "        # ソフトマックス関数\n",
    "        self.y = np.exp(u)/np.sum(np.exp(u), axis=1, keepdims=True)\n",
    "        \n",
    "    def backward(self, t):\n",
    "        delta = self.y - t\n",
    "        \n",
    "        self.grad_w = np.dot(self.x.T, delta)\n",
    "        self.grad_b = np.sum(delta, axis=0)\n",
    "        \n",
    "        self.grad_x = np.dot(delta, self.w.T)\n",
    "        \n",
    "# -- 各層の初期化 --\n",
    "middle_layer_1 = MiddleLayer(n_in, n_mid)\n",
    "middle_layer_2 = MiddleLayer(n_mid, n_mid)\n",
    "output_layer = OutputLayer(n_mid, n_out)\n",
    "\n",
    "# -- 順伝播 --\n",
    "def forward_propagation(x):\n",
    "    middle_layer_1.forward(x)\n",
    "    middle_layer_2.forward(middle_layer_1.y)\n",
    "    output_layer.forward(middle_layer_2.y)\n",
    "    \n",
    "# -- 逆伝播　--\n",
    "def back_propagation(t):\n",
    "    output_layer.backward(t)\n",
    "    middle_layer_2.backward(output_layer.grad_x)\n",
    "    middle_layer_1.backward(middle_layer_2.grad_x)\n",
    "    \n",
    "# -- 重みとバイアスの更新 --\n",
    "def update_wb():\n",
    "    middle_layer_1.update(eta)\n",
    "    middle_layer_2.update(eta)\n",
    "    output_layer.update(eta)\n",
    "    \n",
    "# -- 誤差を計算 --\n",
    "def get_error(t, batch_size):\n",
    "    # 交差エントロピー\n",
    "    return -np.sum(t * np.log(output_layer.y + 1e-7)) / batch_size\n",
    "\n",
    "# --　誤差の記録用 --\n",
    "train_error_x = []\n",
    "train_error_y = []\n",
    "test_error_x = []\n",
    "test_error_y = []\n",
    "\n",
    "# -- 学習と経過の記録 --\n",
    "n_batch = n_train // batch_size # 1エポックあたりのバッチ数\n",
    "\n",
    "for i in range(epoch):\n",
    "    \n",
    "    # -- 誤差の計測 --\n",
    "    forward_propagation(input_train)\n",
    "    error_train = get_error(correct_train, n_train)\n",
    "    forward_propagation(input_test)\n",
    "    error_test = get_error(correct_test, n_test)\n",
    "    \n",
    "    # -- 誤差の記録 --\n",
    "    test_error_x.append(i)\n",
    "    test_error_y.append(error_test)\n",
    "    train_error_x.append(i)\n",
    "    train_error_y.append(error_train)\n",
    "    \n",
    "    # -- 経過の表示 --\n",
    "    if i%interval == 0:\n",
    "        print(\"Epoch:\" + str(i) + \"/\" + str(epoch),\n",
    "                  \"Error_train:\" + str(error_train),\n",
    "                   \"Error_test:\" + str(error_test))\n",
    "        \n",
    "    # -- 学習 --\n",
    "    index_random = np.arange(n_train)\n",
    "    np.random.shuffle(index_random) # インデックスをシャッフルする\n",
    "    for j in range(n_batch):\n",
    "        \n",
    "        # ミニバッチを取り出す\n",
    "        mb_index = index_random[j*batch_size : (j+1)*batch_size]\n",
    "        x = input_train[mb_index, :]\n",
    "        t = correct_train[mb_index, :]\n",
    "        \n",
    "        # 順伝播と逆伝播\n",
    "        forward_propagation(x)\n",
    "        back_propagation(t)\n",
    "        \n",
    "        # 重みとバイアスの更新\n",
    "        update_wb()\n",
    "        \n",
    "# -- 誤差の記録をグラフ表示 --\n",
    "plt.plot(train_error_x, train_error_y, label=\"Train\")\n",
    "plt.plot(test_error_x, test_error_y, label=\"Test\")\n",
    "plt.legend()\n",
    "\n",
    "plt.xlabel(\"Epochs\")\n",
    "plt.ylabel(\"Error\")\n",
    "\n",
    "plt.show()\n",
    "\n",
    "# -- 正解率の測定 --\n",
    "forward_propagation(input_train)\n",
    "count_train = np.sum(np.argmax(output_layer.y, axis=1) == np.argmax(correct_train, axis=1))\n",
    "\n",
    "forward_propagation(input_test)\n",
    "count_test = np.sum(np.argmax(output_layer.y, axis=1) == np.argmax(correct_test, axis=1))\n",
    "\n",
    "print(\"Accuracy Train:\", str(count_train/n_train*100) + \"%\",\n",
    "          \"Accuracy Test:\", str(count_test/n_test*100) + \"%\")\n"
   ]
  },
  {
   "cell_type": "markdown",
   "metadata": {},
   "source": [
    "epoch数を重ねると、訓練誤差、テスト誤差、共に揺らぎながらもきれいに減少して0に近づきます。  \n",
    "また、訓練データだけではなくテストデータでも高い正解率が得られました。"
   ]
  }
 ],
 "metadata": {
  "kernelspec": {
   "display_name": "Python 3",
   "language": "python",
   "name": "python3"
  },
  "language_info": {
   "codemirror_mode": {
    "name": "ipython",
    "version": 3
   },
   "file_extension": ".py",
   "mimetype": "text/x-python",
   "name": "python",
   "nbconvert_exporter": "python",
   "pygments_lexer": "ipython3",
   "version": "3.6.8"
  }
 },
 "nbformat": 4,
 "nbformat_minor": 2
}
