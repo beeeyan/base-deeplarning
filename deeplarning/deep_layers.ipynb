{
 "cells": [
  {
   "cell_type": "markdown",
   "metadata": {},
   "source": [
    "### 各層の実装\n",
    "　前のセクションに引き続き、各層はクラスで実装する。  \n",
    " 今回は、クラスの継承を導入し重複部分を共通化します。  \n",
    " 各層のベースとなるクラスを実装し、このクラスを継承して中間層と出力層を実装する。"
   ]
  },
  {
   "cell_type": "code",
   "execution_count": 1,
   "metadata": {},
   "outputs": [],
   "source": [
    "%config IPCompleter.greedy=True"
   ]
  },
  {
   "cell_type": "markdown",
   "metadata": {},
   "source": [
    "### 継承元のクラス\n",
    "継承元のクラス、BaseLayerは以下のように実装します"
   ]
  },
  {
   "cell_type": "code",
   "execution_count": 2,
   "metadata": {},
   "outputs": [],
   "source": [
    "# -- 各層の継承元 --\n",
    "class BaseLayer:\n",
    "    def __init__(self, n_upper, n):\n",
    "        self.w = wb_width * np.random.randn(n_upper, n) # 重み（行列）\n",
    "        self.b = wb_width * np.random.randn(n) # バイアス（ベクトル）\n",
    "        \n",
    "    def update(self, eta):\n",
    "        self.w -= eta * self.grad_w\n",
    "        self.b -= eta * self.grad_b"
   ]
  },
  {
   "cell_type": "markdown",
   "metadata": {},
   "source": [
    "`__init__`メソッドと`update`メソッドは各層で共通なので、`BaseLayer`クラスに実装します。  \n",
    "`__init__`では初期設定が行われ、`update`では確率的勾配降下法に基づき重みとバイアスが更新されます。"
   ]
  },
  {
   "cell_type": "markdown",
   "metadata": {},
   "source": [
    "### 中間層のクラス\n",
    "`BaseLayer`クラスを継承して、中間層を表すクラス`MiddleLayer`を実装する"
   ]
  },
  {
   "cell_type": "code",
   "execution_count": 5,
   "metadata": {},
   "outputs": [],
   "source": [
    "# -- 中間層 --\n",
    "class MiddleLayer(BaseLayer):\n",
    "    # 順伝播\n",
    "    def forward(self, x):\n",
    "        self.x = x\n",
    "        self.u = np.dot(x, self.w) + self.b\n",
    "        self.y = np.where(self.u <= 0, 0, self.u) # ReLU\n",
    "        \n",
    "    # 逆伝播\n",
    "    def backward(self, grad_y):\n",
    "        delta = grad_y * np.where(self.u <= 0, 0, 1) # ReLU\n",
    "        \n",
    "        self.grad_w = np.dot(self.x.T, delta)\n",
    "        self.grad_b = np.sum(delta, axis=0)\n",
    "        \n",
    "        self.grad_x = np.dot(delta, self.w.T)"
   ]
  },
  {
   "cell_type": "markdown",
   "metadata": {},
   "source": [
    "順伝播用の`forward`メソッドと、逆伝播用の`backward`メソッドの実装はほぼ前のセクションと同じですが、活性化関数にReLUを使用している点が異なります。  \n",
    "  \n",
    " `np.where(self.u <= 0, 0, 1)`はReLUの微分形です。  \n",
    " 継承を利用しているので、以前と比べてコードがスリムになっています。"
   ]
  },
  {
   "cell_type": "markdown",
   "metadata": {},
   "source": [
    "### 出力層のクラス\n",
    "同様に、出力層である`OutputLayer`も`BaseLayer`を継承します。"
   ]
  },
  {
   "cell_type": "code",
   "execution_count": 3,
   "metadata": {},
   "outputs": [],
   "source": [
    "# -- 出力層 -- \n",
    "class OutputLayer(BaseLayer):\n",
    "    def forward(self, x):\n",
    "        self.x = x\n",
    "        u = np.dot(x, self.w) + self.b\n",
    "        # ソフトマックス関数\n",
    "        self.y = np.exp(u)/np.sum(np.exp(u), axis=1, keepdims=True)\n",
    "        \n",
    "    def backward(self, t):\n",
    "        delta = self.y - t\n",
    "        \n",
    "        self.grad_w = np.dot(self.x.T, delta)\n",
    "        self.grad_b = np.sum(delta, axis=0)\n",
    "        \n",
    "        self.grad_x = np.dot(delta, self.w.T)"
   ]
  },
  {
   "cell_type": "markdown",
   "metadata": {},
   "source": [
    "`forward`メソッドと`backward`メソッドの実装は、前のセクションと同じ。"
   ]
  },
  {
   "cell_type": "markdown",
   "metadata": {},
   "source": [
    "### ニューラルネットワークの実装\n",
    "中間層と出力層のクラスを用いて、ニューラルネットワークを構築します。\n",
    "今回はニューラルネットワークに関する各処理を関数の形で実装します。"
   ]
  },
  {
   "cell_type": "code",
   "execution_count": 7,
   "metadata": {},
   "outputs": [
    {
     "ename": "NameError",
     "evalue": "name 'n_in' is not defined",
     "output_type": "error",
     "traceback": [
      "\u001b[0;31m---------------------------------------------------------------------------\u001b[0m",
      "\u001b[0;31mNameError\u001b[0m                                 Traceback (most recent call last)",
      "\u001b[0;32m<ipython-input-7-6877ce22f64a>\u001b[0m in \u001b[0;36m<module>\u001b[0;34m()\u001b[0m\n\u001b[1;32m      1\u001b[0m \u001b[0;31m# --各層の初期化 --\u001b[0m\u001b[0;34m\u001b[0m\u001b[0;34m\u001b[0m\u001b[0;34m\u001b[0m\u001b[0m\n\u001b[0;32m----> 2\u001b[0;31m \u001b[0mmiddle_layer_1\u001b[0m \u001b[0;34m=\u001b[0m \u001b[0mMiddleLayer\u001b[0m\u001b[0;34m(\u001b[0m\u001b[0mn_in\u001b[0m\u001b[0;34m,\u001b[0m \u001b[0mn_mid\u001b[0m\u001b[0;34m)\u001b[0m\u001b[0;34m\u001b[0m\u001b[0;34m\u001b[0m\u001b[0m\n\u001b[0m\u001b[1;32m      3\u001b[0m \u001b[0mmiddle_layer_2\u001b[0m \u001b[0;34m=\u001b[0m \u001b[0mMiddleLayer\u001b[0m\u001b[0;34m(\u001b[0m\u001b[0mn_mid\u001b[0m\u001b[0;34m,\u001b[0m \u001b[0mn_mid\u001b[0m\u001b[0;34m)\u001b[0m\u001b[0;34m\u001b[0m\u001b[0;34m\u001b[0m\u001b[0m\n\u001b[1;32m      4\u001b[0m \u001b[0moutput_layer\u001b[0m \u001b[0;34m=\u001b[0m \u001b[0mOutputLayer\u001b[0m\u001b[0;34m(\u001b[0m\u001b[0mn_mid\u001b[0m\u001b[0;34m,\u001b[0m \u001b[0mn_out\u001b[0m\u001b[0;34m)\u001b[0m\u001b[0;34m\u001b[0m\u001b[0;34m\u001b[0m\u001b[0m\n\u001b[1;32m      5\u001b[0m \u001b[0;34m\u001b[0m\u001b[0m\n",
      "\u001b[0;31mNameError\u001b[0m: name 'n_in' is not defined"
     ]
    }
   ],
   "source": [
    "# --各層の初期化 --\n",
    "middle_layer_1 = MiddleLayer(n_in, n_mid)\n",
    "middle_layer_2 = MiddleLayer(n_mid, n_mid)\n",
    "output_layer = OutputLayer(n_mid, n_out)\n",
    "\n",
    "# -- 順伝播 --\n",
    "def forward_propagation(x):\n",
    "    middle_layer_1.forward(x)\n",
    "    middle_layer_2.forward(middle_layer_1.y)\n",
    "    output_layer.forward(middle_layer_2.y)\n",
    "    \n",
    "# -- 逆伝播　--\n",
    "def back_propagation(t):\n",
    "    output_layer.backward(t)\n",
    "    middle_layer_2.backward(output_layer.grad_x)\n",
    "    middle_layer_1.backward(middle_layer_2.grad_x)\n",
    "    \n",
    "# -- 重みとバイアスの更新 --\n",
    "def update_wb():\n",
    "    middle_layer_1.update(eta)\n",
    "    middle_layer_2.update(eta)\n",
    "    output_layer.update(eta)\n",
    "    \n",
    "# -- 誤差を計算 --\n",
    "def get_error(t, batch_size):\n",
    "    # 交差エントロピー\n",
    "    return -np.sum(t * np.log(output_layer.y + 1e-7)) / batch_size"
   ]
  },
  {
   "cell_type": "markdown",
   "metadata": {},
   "source": [
    "今回のニューラルネットワークには中間層2つ、出力層が1つあります。  \n",
    "各層のインスタンスを生成した上で、これらを用いて順伝播と逆伝播の関数（```forward_propagation```、```back_propagation```）を実装します。  \n",
    "  \n",
    "また、全ての重みとバイアスを更新する関数（```update_wb```）も実装しておきます。  \n",
    "   \n",
    "誤差を計算する関数（```get_error```）も実装しますが、今回は分類問題なので交差エントロピー誤差を計算します。  \n",
    "ミニバッチ学習なので、誤差の総和をバッチサイズで割ります。"
   ]
  },
  {
   "cell_type": "code",
   "execution_count": null,
   "metadata": {},
   "outputs": [],
   "source": []
  }
 ],
 "metadata": {
  "kernelspec": {
   "display_name": "Python 3",
   "language": "python",
   "name": "python3"
  },
  "language_info": {
   "codemirror_mode": {
    "name": "ipython",
    "version": 3
   },
   "file_extension": ".py",
   "mimetype": "text/x-python",
   "name": "python",
   "nbconvert_exporter": "python",
   "pygments_lexer": "ipython3",
   "version": "3.6.8"
  }
 },
 "nbformat": 4,
 "nbformat_minor": 2
}
